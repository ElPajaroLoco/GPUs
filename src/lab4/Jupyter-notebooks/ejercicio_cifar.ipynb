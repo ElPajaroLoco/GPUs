{
 "cells": [
  {
   "cell_type": "markdown",
   "metadata": {},
   "source": [
    "# Entrenamiento del dataset CIFAR\n",
    "* CIFAR es el acrónimo de *Canadian Institute For Advanced Research* y el dataset CIFAR-10 fue desarrollado al igual que el CIFAR-100 por los investigadores del instituto CIFAR[^1] \n",
    "* El dataset contiene 60.000 imágenes de fotografías en color de resolución 32x32 píxeles clasificadas con 10 clases:\n",
    "   * 0: aeroplano\n",
    "   * 1: automóvil\n",
    "   * 2: pájaro\n",
    "   * 3: gato\n",
    "   * 4: ciervo\n",
    "   * 5: perro\n",
    "   * 6: rana\n",
    "   * 7: caballo\n",
    "   * 8: barco\n",
    "   * 9: camión\n",
    "\n",
    "* Cargamos el dataset importando con *cifar10.load_data()*\n",
    "\n",
    "\n",
    "[^1]: https://en.wikipedia.org/wiki/CIFAR-10"
   ]
  },
  {
   "cell_type": "markdown",
   "metadata": {},
   "source": [
    "# Ejercicios\n",
    "* Podemos evaluar otras redes distintas de la LeNet-5 conocidas como redes profundas, que son aquellas con muchas más capas\n",
    "   * VGG19\n",
    "   * MobileNet\n",
    "   * ResNet50\n",
    "   * Más información en https://www.tensorflow.org/api_docs/python/tf/keras/applications\n"
   ]
  },
  {
   "cell_type": "markdown",
   "metadata": {},
   "source": [
    "## Ejercicio 2\n",
    "* Evaluar el rendimiento **score** para otras redes como VGG19 y ResNet50"
   ]
  },
  {
   "cell_type": "code",
   "execution_count": null,
   "metadata": {},
   "outputs": [],
   "source": []
  },
  {
   "cell_type": "markdown",
   "metadata": {},
   "source": [
    "## Ejercicio 3\n",
    "* Evaluar el rendimiento **score** cuando se utiliza el dataset CIFAR pero con **100 clases** para las tres redes consideradas: MobileNet, VGG19 y ResNet50\n",
    "   * El dataset se puede importar con cifar100.load_data()"
   ]
  },
  {
   "cell_type": "code",
   "execution_count": null,
   "metadata": {},
   "outputs": [],
   "source": []
  }
 ],
 "metadata": {
  "kernelspec": {
   "display_name": "Python 3",
   "language": "python",
   "name": "python3"
  },
  "language_info": {
   "codemirror_mode": {
    "name": "ipython",
    "version": 3
   },
   "file_extension": ".py",
   "mimetype": "text/x-python",
   "name": "python",
   "nbconvert_exporter": "python",
   "pygments_lexer": "ipython3",
   "version": "3.8.12"
  }
 },
 "nbformat": 4,
 "nbformat_minor": 2
}
