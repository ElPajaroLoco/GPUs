{
 "cells": [
  {
   "cell_type": "markdown",
   "metadata": {
    "id": "GGVxHwpPBypv"
   },
   "source": [
    "# Usar jupyter para compilar código C/C++\n",
    "\n",
    "## Que vamos a ver en este cuaderno\n",
    "1. Creación de fichero fuente y compilación\n",
    "2. Posibilidad de compilar código por consola\n",
    "\n",
    "## Ejemplo de uso\n",
    "Vamos a  ver como podemos usar el google-colaboratory para poder compilar y desarrollar códigos en CUDA:\n",
    "1. Con la celda mágica **%%writefile** podemos crear un fichero en este caso del tipo C++ que se almacenará en la ruta **/content/hello.cpp**"
   ]
  },
  {
   "cell_type": "code",
   "execution_count": null,
   "metadata": {
    "colab": {
     "base_uri": "https://localhost:8080/"
    },
    "executionInfo": {
     "elapsed": 7,
     "status": "ok",
     "timestamp": 1679671972487,
     "user": {
      "displayName": "CARLOS GARCIA SANCHEZ",
      "userId": "05509868482394843854"
     },
     "user_tz": -60
    },
    "id": "zDu5M7-OB5bc",
    "outputId": "ce3d47b7-646c-4822-cdd9-9a5fe2a42622"
   },
   "outputs": [],
   "source": [
    "%%writefile hello.cpp\n",
    "#include <iostream>\n",
    "\n",
    "int main() {\n",
    "    printf(\"Hello world my friend!!\\n\");\n",
    "    return 0;\n",
    "}"
   ]
  },
  {
   "cell_type": "markdown",
   "metadata": {
    "id": "0N-dp-lcCfAk"
   },
   "source": [
    "2. Vamos a compilar como lo haríamos en una consola en este caso con **g++**"
   ]
  },
  {
   "cell_type": "code",
   "execution_count": null,
   "metadata": {
    "id": "Hf9VAGyeCDmx"
   },
   "outputs": [],
   "source": [
    "!g++ -o h hello.c"
   ]
  },
  {
   "cell_type": "markdown",
   "metadata": {
    "id": "pAZdonnHCkXj"
   },
   "source": [
    "3. Vamos a ejecutar como en la consola, solamente hay que tener en cuenta que para que se ejecute en la consola se ha de añadir el caracter **!**\n"
   ]
  },
  {
   "cell_type": "code",
   "execution_count": null,
   "metadata": {
    "colab": {
     "base_uri": "https://localhost:8080/"
    },
    "executionInfo": {
     "elapsed": 355,
     "status": "ok",
     "timestamp": 1679668399083,
     "user": {
      "displayName": "CARLOS GARCIA SANCHEZ",
      "userId": "05509868482394843854"
     },
     "user_tz": -60
    },
    "id": "2Z7_MZipCFMc",
    "outputId": "a15630d2-7f4e-4ddb-bd15-1d0f39216fef"
   },
   "outputs": [],
   "source": [
    "!./h"
   ]
  },
  {
   "cell_type": "markdown",
   "metadata": {
    "id": "u0s-HN2LFHdL"
   },
   "source": [
    "# Compilar código CUDA\n",
    "* Vamos a hacer lo mismo pero con código CUDA para lo que emplearemos el ejemplo de suma de vectores"
   ]
  },
  {
   "cell_type": "code",
   "execution_count": null,
   "metadata": {
    "colab": {
     "base_uri": "https://localhost:8080/"
    },
    "executionInfo": {
     "elapsed": 217,
     "status": "ok",
     "timestamp": 1679669965861,
     "user": {
      "displayName": "CARLOS GARCIA SANCHEZ",
      "userId": "05509868482394843854"
     },
     "user_tz": -60
    },
    "id": "7xkTnmW9CFxb",
    "outputId": "72400baf-3408-4259-e4de-496b962281d5"
   },
   "outputs": [],
   "source": [
    "%%writefile vector_add.cu\n",
    "\n",
    "#include <stdio.h>\n",
    "#include <malloc.h>\n",
    "\n",
    "#define N 32\n",
    "\n",
    "// Compute vector sum C = A+B\n",
    "__global__ void vecAddkernel(float* A_d, float* B_d, float* C_d, int n)\n",
    "{\n",
    "    int i = threadIdx.x + blockDim.x * blockIdx.x;\n",
    "    if(i<n) C_d[i] = A_d[i] + B_d[i];\n",
    "}\n",
    "\n",
    "int main()\n",
    "{\n",
    "   float *A_d, *B_d, *C_d;\n",
    "   int size = N * sizeof(float);\n",
    "   float *A = (float*)malloc(size);\n",
    "   float *B = (float*)malloc(size);\n",
    "   float *C = (float*)malloc(size);\n",
    "\n",
    "   for(int i=0; i<N; i++){\n",
    "     A[i] = (float)(i);\n",
    "     B[i] = 2.0f;\n",
    "   }\n",
    "\n",
    "   // Get device memory for A, B, C\n",
    "   // copy A and B to device memory\n",
    "   cudaMalloc((void **) &A_d, size);\n",
    "   cudaMemcpy(A_d, A, size, cudaMemcpyHostToDevice);\n",
    "   cudaMalloc((void **) &B_d, size);\n",
    "   cudaMemcpy(B_d, B, size, cudaMemcpyHostToDevice);\n",
    "   cudaMalloc((void **) &C_d, size);\n",
    "\n",
    "   int nThread_per_Blocks = 16;\n",
    "   int nBlocks = N/nThread_per_Blocks;\n",
    "\n",
    "   // Kernel execution in device\n",
    "   // (vector add in device)\n",
    "   vecAddkernel<<<nBlocks, nThread_per_Blocks>>>(A_d, B_d, C_d, N);\n",
    "\n",
    "   // copy C from device memory\n",
    "   cudaMemcpy(C, C_d, size, cudaMemcpyDeviceToHost);\n",
    "\n",
    "   for (int i=0; i<N; i++)\n",
    "      printf(\"%f\\n\", C[i]);\n",
    "\n",
    "   // free A, B, C\n",
    "   cudaFree(A_d); cudaFree(B_d); cudaFree (C_d);\n",
    "}"
   ]
  },
  {
   "cell_type": "markdown",
   "metadata": {
    "id": "Z5YR0S39CwXv"
   },
   "source": [
    "Compilamos con el compilador **nvcc** y ejecutamos al igual que en el ejemplo anterior"
   ]
  },
  {
   "cell_type": "code",
   "execution_count": null,
   "metadata": {
    "executionInfo": {
     "elapsed": 2465,
     "status": "ok",
     "timestamp": 1679669972391,
     "user": {
      "displayName": "CARLOS GARCIA SANCHEZ",
      "userId": "05509868482394843854"
     },
     "user_tz": -60
    },
    "id": "D8QcXz_7G2dm"
   },
   "outputs": [],
   "source": [
    "!nvcc -o vector_add vector_add.cu"
   ]
  },
  {
   "cell_type": "code",
   "execution_count": null,
   "metadata": {
    "id": "d0cvj_xJG831"
   },
   "outputs": [],
   "source": [
    "!./vector_add"
   ]
  },
  {
   "cell_type": "markdown",
   "metadata": {
    "id": "vxFhWsrLIiru"
   },
   "source": [
    "# Proyecto lab1\n",
    "* Ahora que hemos visto como poder compilar un ejemplo vamos a visualizar como montar un directorio de Drive donde esté el código a desarrollar y como compilarlo\n",
    "\n",
    "## Montaje del Drive\n",
    "* En el apartado **Files** de la ventana a la izquierda se puede montar la unidad *Drive* donde previamente podríamos haber descargado alguna práctica\n",
    "* Para comprobar el funcionamiento correcto, podemos cambiar al directorio elegido con el comando de python **os.chdir** y la ruta del directorio selecionado"
   ]
  },
  {
   "cell_type": "code",
   "execution_count": null,
   "metadata": {
    "colab": {
     "base_uri": "https://localhost:8080/"
    },
    "executionInfo": {
     "elapsed": 22232,
     "status": "ok",
     "timestamp": 1679670467405,
     "user": {
      "displayName": "CARLOS GARCIA SANCHEZ",
      "userId": "05509868482394843854"
     },
     "user_tz": -60
    },
    "id": "lI-TIHStIuWW",
    "outputId": "1a9a7380-b8ae-4d68-8f45-b32b08c75e47"
   },
   "outputs": [],
   "source": [
    "from google.colab import drive\n",
    "drive.mount('/content/drive')"
   ]
  },
  {
   "cell_type": "markdown",
   "metadata": {
    "id": "vVDAP700KUtT"
   },
   "source": [
    "Es necesario dar permisos de uso del GDrive para poder hacer uso del contenido\n",
    "* Una vez dados permisos en la \"carpeta de la derecha\" se puede ir navegando hasta la carpeta deseada **/content/drive/MyDrive/...**\n",
    "\n",
    "![Image](https://drive.google.com/file/d/1x8Q-1pB0M9-T-TpZ1mMwfVeiMzt4PKA3/view)\n",
    "\n",
    "* Nos movemos al PATH correspondiente, en mi caso particular a la ruta */content/drive/MyDrive/GPUs/lab1/lane-assist* donde están alojados los ficheros correspondientes al ejemplo del [lane-assist](https://github.com/garsanca/GPUs/blob/main/src/lab1/google-colab/colab_GDrive.png)\n"
   ]
  },
  {
   "cell_type": "code",
   "execution_count": null,
   "metadata": {
    "executionInfo": {
     "elapsed": 3,
     "status": "ok",
     "timestamp": 1679671177893,
     "user": {
      "displayName": "CARLOS GARCIA SANCHEZ",
      "userId": "05509868482394843854"
     },
     "user_tz": -60
    },
    "id": "micUR1LKKP3g"
   },
   "outputs": [],
   "source": [
    "import os\n",
    "os.chdir(\"/content/drive/MyDrive/GPUs/lab1/lane-assist\")"
   ]
  },
  {
   "cell_type": "markdown",
   "metadata": {
    "id": "U2KV2nSPOEcc"
   },
   "source": [
    "Listamos los fichero del directorio para asegurarnos que están todos los ficheros correspondientes"
   ]
  },
  {
   "cell_type": "code",
   "execution_count": null,
   "metadata": {
    "colab": {
     "base_uri": "https://localhost:8080/"
    },
    "executionInfo": {
     "elapsed": 216,
     "status": "ok",
     "timestamp": 1679671180079,
     "user": {
      "displayName": "CARLOS GARCIA SANCHEZ",
      "userId": "05509868482394843854"
     },
     "user_tz": -60
    },
    "id": "1o53eOwZL7Eu",
    "outputId": "db29fd28-0ff7-4714-9ae2-911ec4917c8e"
   },
   "outputs": [],
   "source": [
    "!ls \n"
   ]
  },
  {
   "cell_type": "markdown",
   "metadata": {
    "id": "9TDtGl0YOML0"
   },
   "source": [
    "Compilamos en este  caso con el **Makefile** [adaptado a Google-Colaboratory](https://github.com/garsanca/GPUs/blob/main/src/lab1/lane-assist/Makefile.colab)"
   ]
  },
  {
   "cell_type": "code",
   "execution_count": null,
   "metadata": {
    "colab": {
     "base_uri": "https://localhost:8080/"
    },
    "executionInfo": {
     "elapsed": 4944,
     "status": "ok",
     "timestamp": 1679671241669,
     "user": {
      "displayName": "CARLOS GARCIA SANCHEZ",
      "userId": "05509868482394843854"
     },
     "user_tz": -60
    },
    "id": "OtBwwG9KL9R0",
    "outputId": "89e6bb53-5ff5-4fe6-ca57-7609f634c21f"
   },
   "outputs": [],
   "source": [
    "!make -f Makefile.colab"
   ]
  },
  {
   "cell_type": "markdown",
   "metadata": {
    "id": "HFKGzn56OLWc"
   },
   "source": [
    "* Ejecutamos al igual que el ejemplo anterior (usamos la versión cpu: último parámetro a **c**)"
   ]
  },
  {
   "cell_type": "code",
   "execution_count": null,
   "metadata": {
    "colab": {
     "base_uri": "https://localhost:8080/"
    },
    "executionInfo": {
     "elapsed": 2538,
     "status": "ok",
     "timestamp": 1679671248374,
     "user": {
      "displayName": "CARLOS GARCIA SANCHEZ",
      "userId": "05509868482394843854"
     },
     "user_tz": -60
    },
    "id": "V2qbh6lqNFz_",
    "outputId": "a11058f0-7427-4fe7-8ce4-1ea2c2e084a5"
   },
   "outputs": [],
   "source": [
    "!./image img0.png c"
   ]
  },
  {
   "cell_type": "markdown",
   "metadata": {
    "id": "spn0eO0mOgA2"
   },
   "source": [
    "... y visualizamos la imágen de salida que está en el fichero **out.png**"
   ]
  },
  {
   "cell_type": "code",
   "execution_count": null,
   "metadata": {
    "colab": {
     "base_uri": "https://localhost:8080/",
     "height": 646,
     "output_embedded_package_id": "1KYOdaxR1kldgDmpDu8Q6TMNls1fC4Oud"
    },
    "executionInfo": {
     "elapsed": 3228,
     "status": "ok",
     "timestamp": 1679671305514,
     "user": {
      "displayName": "CARLOS GARCIA SANCHEZ",
      "userId": "05509868482394843854"
     },
     "user_tz": -60
    },
    "id": "BLjxU0ynNKp3",
    "outputId": "12141fa1-bce4-4d05-8dca-c5ab79d8ad4a"
   },
   "outputs": [],
   "source": [
    "from IPython.display import Image\n",
    "Image(filename='out.png') "
   ]
  },
  {
   "cell_type": "code",
   "execution_count": null,
   "metadata": {
    "id": "DjTFIfeINhRR"
   },
   "outputs": [],
   "source": []
  }
 ],
 "metadata": {
  "colab": {
   "authorship_tag": "ABX9TyMmsQD4Fi2AVibSW9iJcmfu",
   "provenance": []
  },
  "kernelspec": {
   "display_name": "Python 3",
   "language": "python",
   "name": "python3"
  },
  "language_info": {
   "codemirror_mode": {
    "name": "ipython",
    "version": 3
   },
   "file_extension": ".py",
   "mimetype": "text/x-python",
   "name": "python",
   "nbconvert_exporter": "python",
   "pygments_lexer": "ipython3",
   "version": "3.8.12"
  }
 },
 "nbformat": 4,
 "nbformat_minor": 1
}
